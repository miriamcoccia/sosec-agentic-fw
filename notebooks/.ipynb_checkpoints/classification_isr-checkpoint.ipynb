{
 "cells": [
  {
   "cell_type": "code",
   "execution_count": 1,
   "id": "29662097-38a1-40ac-b5b8-3f3edf0da32f",
   "metadata": {},
   "outputs": [],
   "source": [
    "!pip install ollama -q"
   ]
  },
  {
   "cell_type": "code",
   "execution_count": 2,
   "id": "5275b471-8ef5-4ff6-9665-a52d155b90e9",
   "metadata": {},
   "outputs": [],
   "source": [
    "import ollama"
   ]
  },
  {
   "cell_type": "code",
   "execution_count": 4,
   "id": "1d24dde1-b724-4c0e-9d3c-52d87220bf07",
   "metadata": {},
   "outputs": [],
   "source": [
    "def messages_for(user_message):\n",
    "    keywords = [\n",
    "        \"israel\", \"gaza\", \"hamas\", \"palestine\", \"lebanon\",\n",
    "        \"hisbollah\", \"hezbollah\", \"iran\", \"netanyahu\", \"rafah\", \"karim khan\",\n",
    "        \"netanyahu arrest\", \"international criminal court\", \"netanyahu warrant\",\n",
    "        \"hostage\", \"october 7\", \"ceasefire\", \"al-sinwar\", \"genocide\",\n",
    "        \"war crime\", \"the hague\", \"nasrallah\", \"gaza strip\", \"united nations\",\n",
    "        \"the bibi files\", \"qatar\", \"moral responsibility\",\n",
    "        \"yoav gallant\", \"donald trump\", \"israel release\", \"bibas\", \"israel bus\", \"israel hostage deal\",\n",
    "        \"israel gaza ceasefire\", \"the times of israel\", \"israel deal\", \"israeli hostages released\"\n",
    "    ]\n",
    "\n",
    "    messages = [\n",
    "        {\n",
    "            \"role\": \"system\",\n",
    "            \"content\": (\n",
    "                \"You are a highly accurate text classifier specializing in detecting references to Israel \"\n",
    "                \"or the Middle East conflict in German-language social media posts, particularly on Telegram. \"\n",
    "                \"Base your classification strictly on the content of the post, avoiding assumptions beyond what is explicitly stated.\"\n",
    "            )\n",
    "        },\n",
    "        {\n",
    "            \"role\": \"user\",\n",
    "            \"content\": (\n",
    "                f\"Classify the following Telegram post strictly based on its content:\\n\\n\"\n",
    "                \"Label it with '1' if the post references Israel, Palestine, Hamas, or the broader Middle East conflict, \"\n",
    "                \"including political, military, or humanitarian aspects.\\n\"\n",
    "                \"Label it with '0' if it is about a different topic.\\n\"\n",
    "                \"If the classification is unclear, respond with 'Uncertain'.\\n\\n\"\n",
    "                f\"Consider the following keywords as strong indicators that the post is about the Israel-Middle East conflict:\\n\"\n",
    "                f\"{', '.join(keywords)}\\n\\n\"\n",
    "                \"However, do not rely solely on keywords—evaluate the full context of the message.\\n\\n\"\n",
    "                f\"Post:\\n{user_message}\"\n",
    "            )\n",
    "        }\n",
    "    ]\n",
    "    return messages\n"
   ]
  },
  {
   "cell_type": "code",
   "execution_count": 6,
   "id": "26b40cf4-e52c-4cdb-97e4-801bc04909c5",
   "metadata": {},
   "outputs": [],
   "source": [
    "def classify(messages,model=\"gemma3:1b\"):\n",
    "    response = ollama.chat(model, messages)[\"message\"][\"content\"]\n",
    "    print(response)\n",
    "    \n",
    "    "
   ]
  },
  {
   "cell_type": "code",
   "execution_count": 9,
   "id": "fece2074-6d91-42b9-bb55-92509cfb5aa4",
   "metadata": {},
   "outputs": [],
   "source": [
    "text = messages_for(r\"Classify the following text in spam or not: \\n$ichere GewiNNe!\")"
   ]
  },
  {
   "cell_type": "code",
   "execution_count": 11,
   "id": "4be83fad-b1f1-4ae9-bbb5-f6f111f40f19",
   "metadata": {},
   "outputs": [
    {
     "name": "stdout",
     "output_type": "stream",
     "text": [
      "**Spam**\n",
      "\n",
      "This text is highly likely to be spam. It’s a nonsensical string of characters used to try and trick users into clicking on something. It lacks context and is designed to be disruptive. \n",
      "\n",
      "**Reasoning:**\n",
      "\n",
      "* **Lack of Meaning:** The text doesn’t convey any genuine information.\n",
      "* **Aggressive Tone:** The exclamation point and the unusual character sequence suggest a manipulative attempt.\n",
      "* **Common Spam Tactics:** This is a classic example of a spam message attempting to lure users into a malicious link or action.\n",
      "\n",
      "**Do you want me to analyze a different text for classification?**\n"
     ]
    }
   ],
   "source": [
    "classify(text)"
   ]
  },
  {
   "cell_type": "code",
   "execution_count": null,
   "id": "762c42ae-a9df-4b06-a7b1-4083e6679793",
   "metadata": {},
   "outputs": [],
   "source": []
  }
 ],
 "metadata": {
  "kernelspec": {
   "display_name": "cemas_venv",
   "language": "python",
   "name": "cemas_venv"
  },
  "language_info": {
   "codemirror_mode": {
    "name": "ipython",
    "version": 3
   },
   "file_extension": ".py",
   "mimetype": "text/x-python",
   "name": "python",
   "nbconvert_exporter": "python",
   "pygments_lexer": "ipython3",
   "version": "3.9.21"
  }
 },
 "nbformat": 4,
 "nbformat_minor": 5
}
